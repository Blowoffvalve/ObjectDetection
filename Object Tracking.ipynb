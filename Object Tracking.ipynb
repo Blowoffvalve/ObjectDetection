{
 "cells": [
  {
   "cell_type": "code",
   "execution_count": 1,
   "metadata": {},
   "outputs": [],
   "source": [
    "import cv2\n",
    "import sys\n",
    "from random import randint"
   ]
  },
  {
   "cell_type": "markdown",
   "metadata": {},
   "source": [
    "## Create a method to use to create the tracker"
   ]
  },
  {
   "cell_type": "code",
   "execution_count": 2,
   "metadata": {},
   "outputs": [],
   "source": [
    "trackerTypes = ['BOOSTING', 'MIL', 'KCF','TLD', 'MEDIANFLOW', 'GOTURN', 'MOSSE', 'CSRT']\n",
    " \n",
    "def createTrackerByName(trackerType):\n",
    "  # Create a tracker based on tracker name\n",
    "  if trackerType == trackerTypes[0]:\n",
    "    tracker = cv2.TrackerBoosting_create()\n",
    "  elif trackerType == trackerTypes[1]: \n",
    "    tracker = cv2.TrackerMIL_create()\n",
    "  elif trackerType == trackerTypes[2]:\n",
    "    tracker = cv2.TrackerKCF_create()\n",
    "  elif trackerType == trackerTypes[3]:\n",
    "    tracker = cv2.TrackerTLD_create()\n",
    "  elif trackerType == trackerTypes[4]:\n",
    "    tracker = cv2.TrackerMedianFlow_create()\n",
    "  elif trackerType == trackerTypes[5]:\n",
    "    tracker = cv2.TrackerGOTURN_create()\n",
    "  elif trackerType == trackerTypes[6]:\n",
    "    tracker = cv2.TrackerMOSSE_create()\n",
    "  elif trackerType == trackerTypes[7]:\n",
    "    tracker = cv2.TrackerCSRT_create()\n",
    "  else:\n",
    "    tracker = None\n",
    "    print('Incorrect tracker name')\n",
    "    print('Available trackers are:')\n",
    "    for t in trackerTypes:\n",
    "      print(t)\n",
    "     \n",
    "  return tracker"
   ]
  },
  {
   "cell_type": "markdown",
   "metadata": {},
   "source": [
    " ## Attempt to read the video"
   ]
  },
  {
   "cell_type": "code",
   "execution_count": 3,
   "metadata": {},
   "outputs": [],
   "source": [
    "#Set video0 to a video with ~4 minutes of content.\n",
    "#Set video1 to a car chase\n",
    "video0 = \"ball rebounding and bouncing all around the screen with trails and music 1080p HD Animation.mp4\"\n",
    "video1 = \"1-Stolen Dodge Hellcat Outruns Chopper in Houston Police Chase! Driver Almost Makes it.mp4\"\n",
    "video = video1\n",
    "capture = cv2.VideoCapture(video)\n",
    "\n",
    "#Attempt to read a frame\n",
    "success, frame = capture.read()\n",
    "if not success:\n",
    "    print(\"Video doesn't exist.\")\n",
    "    sys.exit(1)"
   ]
  },
  {
   "cell_type": "markdown",
   "metadata": {},
   "source": [
    "## Draw bounding boxes around the object to be tracked"
   ]
  },
  {
   "cell_type": "code",
   "execution_count": 4,
   "metadata": {},
   "outputs": [
    {
     "name": "stdout",
     "output_type": "stream",
     "text": [
      "Selected bounding boxes[]\n"
     ]
    }
   ],
   "source": [
    "boundBoxes = []\n",
    "# color is going to be initialized to a random color for every object\n",
    "colors = []\n",
    "\n",
    "# A loop to run the object selection till \"q\" is pressed\n",
    "while not True:\n",
    "    boundbox = cv2.selectROI('tracker', frame)\n",
    "    boundBoxes.append(boundbox)\n",
    "    colors.append((randint(0,255), randint(0, 255), randint(0, 255)))\n",
    "    print(\"Press q/ESC to quit selecting boxes and start tracking\")\n",
    "    print(\"Press Space to set the next object to select\")\n",
    "    k = cv2.waitKey(0)\n",
    "    if (k == 113 or k==27):\n",
    "        break        \n",
    "        \n",
    "cv2.destroyWindow(\"tracker\")\n",
    "print(\"Selected bounding boxes{}\".format(boundBoxes))"
   ]
  },
  {
   "cell_type": "markdown",
   "metadata": {},
   "source": [
    "## Set bounding box and color to a fixed location so test is reproducible"
   ]
  },
  {
   "cell_type": "code",
   "execution_count": 5,
   "metadata": {},
   "outputs": [],
   "source": [
    "if video==video0:\n",
    "    boundBoxes = [(0, 0, 11, 16)]\n",
    "    colors = [(44, 156, 222)]\n",
    "if video ==video1:\n",
    "    boundBoxes = [(258, 156, 76, 32)]\n",
    "    colors = [(44, 156, 222)]"
   ]
  },
  {
   "cell_type": "markdown",
   "metadata": {},
   "source": [
    "## Initialize a Multi-tracker to track the boundingBoxes"
   ]
  },
  {
   "cell_type": "code",
   "execution_count": 6,
   "metadata": {},
   "outputs": [],
   "source": [
    "['BOOSTING', 'MIL', 'KCF','TLD', 'MEDIANFLOW', 'GOTURN', 'MOSSE', 'CSRT']\n",
    "trackerType = \"TLD\"\n",
    "\n",
    "#Create the multitracker object\n",
    "multiTracker = cv2.MultiTracker_create()\n",
    "\n",
    "#initialize the multitracker\n",
    "for boundbox in boundBoxes:\n",
    "    multiTracker.add(createTrackerByName(trackerType), frame, boundbox)"
   ]
  },
  {
   "cell_type": "markdown",
   "metadata": {},
   "source": [
    "## Process the video and begin object tracking"
   ]
  },
  {
   "cell_type": "code",
   "execution_count": 7,
   "metadata": {},
   "outputs": [],
   "source": [
    "def run_tracking(capture, multiTracker, trackerType):\n",
    "    frameCount = 1\n",
    "    #Process video and track objects\n",
    "    while capture.isOpened():\n",
    "        frameCount+=1\n",
    "        success, frame = capture.read()\n",
    "        if not success:\n",
    "            break\n",
    "        #get updated location of objects being tracked in subsequent fram\n",
    "        success, boxes = multiTracker.update(frame)\n",
    "        \n",
    "        #Draw box around tracked objects\n",
    "        for i, newbox in enumerate(boxes):\n",
    "            p1 = (int(newbox[0]), int(newbox[1]))\n",
    "            p2 = (int(newbox[0] + newbox[2]), int(newbox[1] + newbox[3]))\n",
    "            cv2.rectangle(frame, p1, p2, colors[i], 2, 1)\n",
    "\n",
    "        #Show the fram\n",
    "        cv2.imshow(trackerType, frame)\n",
    "\n",
    "        #Quit if the Escape button is pressed\n",
    "        if cv2.waitKey(1) & 0xFF ==27:\n",
    "            break\n",
    "    cv2.destroyAllWindows()\n",
    "    print(frameCount)"
   ]
  },
  {
   "cell_type": "code",
   "execution_count": 8,
   "metadata": {},
   "outputs": [
    {
     "name": "stdout",
     "output_type": "stream",
     "text": [
      "2241\n",
      "Wall time: 2min 56s\n"
     ]
    }
   ],
   "source": [
    "%time run_tracking(capture, multiTracker, trackerType)"
   ]
  },
  {
   "cell_type": "code",
   "execution_count": 9,
   "metadata": {},
   "outputs": [
    {
     "name": "stdout",
     "output_type": "stream",
     "text": [
      "True\n"
     ]
    }
   ],
   "source": [
    "print(success)\n",
    "cv2.destroyAllWindows()"
   ]
  }
 ],
 "metadata": {
  "kernelspec": {
   "display_name": "Python 3",
   "language": "python",
   "name": "python3"
  },
  "language_info": {
   "codemirror_mode": {
    "name": "ipython",
    "version": 3
   },
   "file_extension": ".py",
   "mimetype": "text/x-python",
   "name": "python",
   "nbconvert_exporter": "python",
   "pygments_lexer": "ipython3",
   "version": "3.6.7"
  }
 },
 "nbformat": 4,
 "nbformat_minor": 2
}
